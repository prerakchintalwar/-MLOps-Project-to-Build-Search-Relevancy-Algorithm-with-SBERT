{
 "cells": [
  {
   "attachments": {},
   "cell_type": "markdown",
   "metadata": {},
   "source": [
    "# QUICK LOOK AT NEWS ARTICLES"
   ]
  },
  {
   "cell_type": "code",
   "execution_count": 1,
   "metadata": {},
   "outputs": [],
   "source": [
    "import os\n",
    "import pandas as pd\n",
    "from pymongo import MongoClient\n",
    "\n",
    "import sys\n",
    "sys.path.append(\"../\")\n",
    "\n",
    "from src import config"
   ]
  },
  {
   "cell_type": "code",
   "execution_count": 4,
   "metadata": {},
   "outputs": [],
   "source": [
    "def get_raw_data_from_mongo(output_filename=os.path.join(\"../\", config.DATA_DIR, \"raw\", \"raw.csv\"))->str:\n",
    "    \"\"\"\n",
    "    Get raw data from mongoDB\n",
    "    :param output_filename: str\n",
    "    :return: path\n",
    "    \"\"\"\n",
    "    \n",
    "    conn = MongoClient(config.CONNECTION_STRING)\n",
    "    db = conn.get_database(\"NewsArticleDB\")\n",
    "    collection = db.get_collection(\"news_data\")\n",
    "    data = pd.DataFrame(list(collection.find())).drop(\"_id\", axis=1)\n",
    "\n",
    "\n",
    "    _columns = list(map(lambda x: x.lower(), data.columns))\n",
    "    data.columns = _columns\n",
    "\n",
    "    # remove all articles with no titles and no text body\n",
    "    data = data[(~data['title'].isnull()) & (~data['text'].isnull())]\n",
    "\n",
    "    # run quick text normalization\n",
    "    data[\"category\"] = data[\"category\"].apply(lambda x: x.lower())\n",
    "    data[\"subcategory\"] = data[\"subcategory\"].apply(lambda x: x.lower())\n",
    "\n",
    "    # create artificial identifier\n",
    "    data[\"article_id\"] = list(range(data.shape[0]))\n",
    "    data[[\"article_id\"] + _columns].to_csv(output_filename, index=False)\n",
    "    \n",
    "    return output_filename\n"
   ]
  },
  {
   "cell_type": "code",
   "execution_count": 5,
   "metadata": {},
   "outputs": [],
   "source": [
    "filename = get_raw_data_from_mongo()\n",
    "df = pd.read_csv(filename, nrows=1000)"
   ]
  },
  {
   "cell_type": "code",
   "execution_count": 6,
   "metadata": {},
   "outputs": [
    {
     "data": {
      "text/plain": [
       "{'article_id': 0,\n",
       " 'article_id.1': 0,\n",
       " 'category': 'asia media',\n",
       " 'subcategory': 'asia - business & finance',\n",
       " 'title': 'EY achieves highest growth in nearly two decades, reports record global revenue of US$45.4b',\n",
       " 'published date': '2022-09-21 07:00:00',\n",
       " 'text': 'US$3.2b invested in audit quality, innovation, technology and people in FY22 – part of a US$10b three-year commitment announced in FY21\\n\\nMore than 81m lives positively impacted through corporate responsibility program EY Ripples\\n\\nCarbon negative status reached in FY21, on track to achieve net-zero ambition in 2025\\n\\nLooking ahead, EY leaders have reached the decision to move forward with partner votes for the initiative to separate into two distinct, multidisciplinary organizations\\n\\nEY today announces combined global revenues of US$45.4b for the financial year ending June 2022 (FY22), an increase of 16.4% in local currency (13.7% in US dollars). This marks one of the most successful years in the history of the organization with the highest growth seen in nearly two decades attributed to the EY NextWave strategy to deliver long-term value for EY people, clients and society.\\n\\nEY has today also published its Value Realized report, an expanded annual report detailing financial performance; environmental, social and governance (ESG) efforts; and key areas of collaboration to drive social impact.\\n\\n\\n\\nCarmine Di Sibio, EY Global Chairman and CEO, says:\\n\\n\\n\\n“EY has achieved significant growth and continues to operate from a place of strength. I am proud that our growth has been grounded in delivering stakeholder value, executed under the EY NextWave strategy. We have tremendous momentum right now, and growth means opportunity – for EY people, clients and broader stakeholders.”\\n\\nStrong performance across all service lines\\n\\nAll EY service lines recorded strong revenue growth in FY22. Consulting experienced exceptional growth of 27.1% (local currency) and 24.5% (USD) to US$13.9b. Strategy and Transactions also grew by a significant 25.4% (local currency) and 22.8% (USD) to US$5.9b.\\n\\nAssurance grew by 8.9% (local currency) and 6% (USD) to US$14.4b. Revenues from the Tax service line rose by 10.5% (local currency) and 7.9% (USD) to US$11.3b.\\n\\nContinued investment in innovation\\n\\nThis year EY invested US$3.2b in audit quality, innovation, technology and people – part of a US$10b three-year commitment announced in FY21. This includes US$1b in a next- generation assurance technology platform – which is part of a sustained focus on providing high-quality audits and responding rapidly to changing expectations from regulators, governments, standard setters, audit committees and boards.\\n\\nGrowing investment in sustainability and technology training\\n\\nIn FY22 there were EY investments of US$300m in training which delivered more than 59 hours of training per employee on average. The EY organization now offers more than 250 learning accreditations – known as EY Badges – across a range of disciplines: including artificial intelligence (AI), blockchain, impact entrepreneurship, supply chain planning, DE&I and sustainable business practices, in addition to technical training in accounting and tax.\\n\\nThis year EY announced two new master’s degrees in collaboration with Hult International Business School. The new qualifications - in Business Analytics and Sustainability - are open and free to all EY people alongside the EY Tech MBA by Hult. 95 people graduated with an EY Tech MBA and 10 people graduated in the first cohort of the Master’s in Business Analytics this year. Cumulatively, 130 people have graduated from the Tech MBA and master’s programs. EY also opened the EY Tech University in Palo Alto, California, delivering programs in disruptive technology for senior executives and clients.\\n\\n\\n\\nDriving the sustainability agenda\\n\\nEY became carbon negative globally in FY21, a major and significant step toward achieving the organization’s ambition of becoming net zero in 2025. EY continues to be carbon negative and remains on track toward achieving this net-zero ambition, with a 56% reduction in emissions recorded in FY22, compared with the baseline set in FY19.\\n\\n\\n\\nIn addition to progress to become more sustainable, the EY organization is focused on the development of alliances, and the creation of innovative ecosystems to address the world’s largest climate-related challenges. EY people have delivered EY Sustainability solutions to more than 3,000 clients, including technology-based solutions through alliances with Enablon, IBM, Microsoft and SAP.\\n\\nAdditionally, EY has developed a specific methodology to provide assurance on nonfinancial reporting based on the globally accepted International Standard on Assurance Engagements (ISAE 3000) released by the International Auditing and Assurance Standards Board (IAASB). The organization has also issued new guidance on the audit of financial reporting to help EY audit teams consider the effects of climate-related risks on financial statements.\\n\\n\\n\\nA focus on EY people\\n\\nThis year EY evolved its approach to diversity and inclusiveness by explicitly incorporating equity. Now referred to as Diversity, Equity and Inclusiveness (DE&I), this furthers the organization’s commitment to creating an inclusive environment and removing barriers to equal outcomes so everyone can thrive. EY continues to be a purpose-led organization with a culture that is strongly committed to DE&I.\\n\\nIn FY22 35% of partner, principal, executive director, and director (PPEDD) promotions were women. Overall, there were more than 2,400 promotions to PPEDD this year - the largest ever cohort for the EY organization.\\n\\n\\n\\nTo better understand and support the needs of EY people and ensure hidden inequities are uncovered and addressed, EY expanded global self-identification (Self-ID) capabilities. This increased range of choices for EY people to complete under ‘personal information’ provides EY with a deeper understanding of the EY population, strengthening EY’s commitment to driving greater equity in areas relating to career development by monitoring and analyzing demographic trends and gaps.\\n\\n\\n\\nBuilding a better working world\\n\\nThe EY global organization set the ambitious goal of positively impacting one billion lives by 2030 through the EY Ripples corporate responsibility program. Since EY Ripples was established in November 2018, more than 81m lives have been positively impacted, including 27m lives in FY22. In FY22 there were total investments made up of US$159m in projects dedicated to strengthening local communities, with EY people contributing more than 1.1m hours of time to a variety of initiatives and value-in-kind projects.\\n\\nEY and Microsoft formed a social impact alliance in FY22 to increase social equity in the digital economy and support millions of people to enter or re-enter the workforce or build new businesses by 2025. An ongoing cross-sector collaboration with Unilever and the UK Foreign Commonwealth and Development Office (FCDO) through TRANSFORM has also positively impacted the lives of 6m people from low-income households across 13 countries since 2015.\\n\\n\\n\\nThe EY organization is further collaborating to make progress on environmental challenges. EY joined over 90 organizations in the Alliance to End Plastic Waste and became a signatory to Carbon Call to encourage more organizations to report their emissions regularly, transparently and comprehensively.\\n\\n\\n\\nLooking ahead\\n\\nEY leaders have now recommended that the organization evolves into two distinct, multidisciplinary organizations. One would be a global network of multidisciplinary member firms committed to assurance, tax and advisory services with all the capabilities required to deliver high-quality audits, serve the public interest and focus on the CFO agenda and sustainability; and the other would be a new global corporate entity comprising Consulting, Strategy and Transactions (SaT), the majority of Tax, and managed services.\\n\\nIn taking this bold step, EY can better serve EY people, clients and broader stakeholders in a once in a generation opportunity to redefine the future of professional services. This move will create better and more dynamic career opportunities; people can learn more, take on new roles and explore different mobility options.\\n\\n\\n\\nIt would mean increased access to capital to reinvest in people and client services and solutions, with a laser focus on the issues that matter most to clients and stakeholders.\\n\\n\\n\\nIt would also mean more choice for clients for both audit and transformation services, and an even stronger focus on ESG priorities, as well as more opportunities to develop new corporate responsibility programs – such as co-investments in “green” projects – so that we can make an even bigger impact in the communities in which we operate.\\n\\n\\n\\nBoth organizations will be values-focused and purpose-driven, and both will preserve the strong EY culture and commitment to DE&I.\\n\\n\\n\\nEY will now engage in more detail with EY member firm partners, whose votes will determine whether we move forward.\\n\\n\\n\\n-ends-\\n\\nAbout EY\\n\\nEY exists to build a better working world, helping create long-term value for clients, people and society and build trust in the capital markets.\\n\\nEnabled by data and technology, diverse EY teams in over 150 countries provide trust through assurance and help clients grow, transform and operate.\\n\\nWorking across assurance, consulting, law, strategy, tax and transactions, EY teams ask better questions to find new answers for the complex issues facing our world today.\\n\\nEY refers to the global organization, and may refer to one or more, of the member firms of Ernst & Young Global Limited, each of which is a separate legal entity. Ernst & Young Global Limited, a UK company limited by guarantee, does not provide services to clients. Information about how EY collects and uses personal data and a description of the rights individuals have under data protection legislation are available via ey.com/privacy. EY member firms do not practice law where prohibited by local laws. For more information about our organization, please visit ey.com.\\n\\nThis news release has been issued by EYGM Limited, a member of the global EY organization that also does not provide any services to clients.\\n\\nB-roll footage\\n\\nTo watch EY Global Chairman and CEO Carmine Di Sibio discuss the EY FY22 results, please visit here.',\n",
       " 'source': \"{'href': 'https://www.ey.com', 'title': 'Ernst & Young'}\"}"
      ]
     },
     "execution_count": 6,
     "metadata": {},
     "output_type": "execute_result"
    }
   ],
   "source": [
    "df.loc[0].to_dict()"
   ]
  },
  {
   "cell_type": "code",
   "execution_count": 5,
   "metadata": {},
   "outputs": [
    {
     "data": {
      "text/plain": [
       "{'article_id': 100,\n",
       " 'article_id.1': 100,\n",
       " 'category': 'asia media',\n",
       " 'subcategory': 'asia - computers & it business',\n",
       " 'title': 'RETINA-AI Health, Inc. Closes $2.6M Bridge Round; Totaling $8.1M Raised to Build Galaxy™ Multi-Camera-Compatible Diabetic Retinopathy AI System. Starts Clinical Trial.',\n",
       " 'published date': '2022-12-12 08:00:00',\n",
       " 'text': 'HOUSTON, Dec. 12, 2022 /PRNewswire/ -- RETINA-AI Health, Inc. closes its bridge financing round during which it raised $2.6M, bringing the total raised so far by the company to $8.1M for the development of RETINA-AI Galaxy™ v2.0, a U.S. patent-protected multi-camera-compatible autonomous Artificial Intelligence (AI) diabetic retinopathy detection system. On Nov 3rd 2022, the company began enrollment in its Pivotal (Phase III) multi-center prospective clinical trial of the RETINA-AI Galaxy™ v2.0 (ClinicalTrials.gov ID: NCT05368623).\\n\\nRETINA-AI Health, Inc. closes its bridge financing round during which it raised $2.6M, bringing the total raised so far by the company to $8.1M for the development of RETINA-AI Galaxy™ v2.0 Tweet this Dr. Stephen G. Odaibo, Founder and CEO of RETINA-AI Health, Inc.\\n\\n37 million Americans and 537 million people globally suffer from diabetes – each of whom needs at least one diabetic eye exam annually. Unfortunately, most do not receive the exam. AI can help, but thus far there are no AI systems approved for use with retinal cameras from more than one manufacturer – thereby constituting a bottleneck to access. That unmet need is what prompted the development of the RETINA-AI Galaxy™ v2.0.\\n\\n\"This is all about increasing access to high quality specialized healthcare for all people,\" says Dr. Stephen G. Odaibo, CEO and Founder of RETINA-AI Health, Inc., who is a board-certified ophthalmologist, retina specialist, mathematician, software engineer, and an AI and Machine Learning expert. \"We are keen that our technologies are developed to the highest scientific, regulatory, and ethical standards, and are accessible to people from all walks of life for which they are indicated – including people from a large diversity of racial and socioeconomic backgrounds. This is why we have invested so much of our time, expertise, and resources as a company to develop this multi-camera-compatible AI system. This motivation and focus is a key part of what sets us apart as a company,\" Dr. Odaibo says.\\n\\nThe company projects that it will complete its ongoing Pivotal (Phase III) clinical trial of the RETINA-AI Galaxy™ v2.0 in the Spring of 2023, and will submit its U.S. FDA application shortly afterwards.\\n\\nABOUT RETINA-AI Health, Inc.\\n\\nRETINA-AI Health, Inc. is a privately-held Delaware C-Corp founded in 2017 and headquartered in Houston Texas. The company is focused on building AI to transform healthcare and improve the outcomes of prevalent chronic diseases. It develops and deploys retina-based AI for detection of systemic chronic diseases at scale. RETINA-AI Health, Inc. has a strong unwavering commitment to adhere to the highest standards of quality and ethics, while continuously leading the world in healthcare AI innovation.\\n\\nMedia Contact:\\n\\nEmail: [email protected]\\n\\nPhone: 832-974-2240\\n\\nWebsite: retinahealth.ai\\n\\nSOURCE RETINA-AI Health, Inc.',\n",
       " 'source': \"{'href': 'https://www.prnewswire.com', 'title': 'PR Newswire'}\"}"
      ]
     },
     "execution_count": 5,
     "metadata": {},
     "output_type": "execute_result"
    }
   ],
   "source": [
    "df.loc[100].to_dict()"
   ]
  },
  {
   "cell_type": "code",
   "execution_count": null,
   "metadata": {},
   "outputs": [],
   "source": []
  },
  {
   "cell_type": "code",
   "execution_count": null,
   "metadata": {},
   "outputs": [],
   "source": []
  }
 ],
 "metadata": {
  "kernelspec": {
   "display_name": "env",
   "language": "python",
   "name": "python3"
  },
  "language_info": {
   "codemirror_mode": {
    "name": "ipython",
    "version": 3
   },
   "file_extension": ".py",
   "mimetype": "text/x-python",
   "name": "python",
   "nbconvert_exporter": "python",
   "pygments_lexer": "ipython3",
   "version": "3.8.10"
  },
  "orig_nbformat": 4
 },
 "nbformat": 4,
 "nbformat_minor": 2
}
